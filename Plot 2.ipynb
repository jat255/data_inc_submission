{
 "cells": [
  {
   "cell_type": "markdown",
   "metadata": {},
   "source": [
    "# Examining the geographical distribution of non-profit wealth in different sectors "
   ]
  },
  {
   "cell_type": "code",
   "execution_count": 1,
   "metadata": {},
   "outputs": [],
   "source": [
    "%matplotlib qt\n",
    "import numpy as np\n",
    "import pandas as pd\n",
    "import matplotlib.pyplot as plt\n",
    "pd.options.display.max_columns = None"
   ]
  },
  {
   "cell_type": "markdown",
   "metadata": {},
   "source": [
    "Read in just the most recent data (from 2015):"
   ]
  },
  {
   "cell_type": "code",
   "execution_count": 2,
   "metadata": {},
   "outputs": [
    {
     "name": "stderr",
     "output_type": "stream",
     "text": [
      "/usr/lib/python3.6/site-packages/IPython/core/interactiveshell.py:2785: DtypeWarning: Columns (1,2,3,4,6,9,12,14,20,22,29,30,31,69,73,87,95,102,120,141) have mixed types. Specify dtype option on import or set low_memory=False.\n",
      "  interactivity=interactivity, compiler=compiler, result=result)\n"
     ]
    }
   ],
   "source": [
    "df_2015 = pd.read_csv('nccs.core2015pc.csv')"
   ]
  },
  {
   "cell_type": "markdown",
   "metadata": {},
   "source": [
    "Clean the data a bit by removing non-profits that are foreign, or in non-states:"
   ]
  },
  {
   "cell_type": "code",
   "execution_count": 3,
   "metadata": {},
   "outputs": [],
   "source": [
    "df_2015 = df_2015[df_2015['STATE'].isin(['AS', 'FM', 'FO', 'GU', 'MH', 'MP', 'PW', 'PR', 'VI']) == False]"
   ]
  },
  {
   "cell_type": "markdown",
   "metadata": {},
   "source": [
    "Save a reference of state-by-state populations so we can perform per-capita evaluations. Otherwise the maps will likely just look like population density maps:"
   ]
  },
  {
   "cell_type": "code",
   "execution_count": 4,
   "metadata": {},
   "outputs": [],
   "source": [
    "state_pop = \\\n",
    "{'AL': 4858979,\n",
    "'AK': 738432,\n",
    "'AZ': 6828065,\n",
    "'AR': 2978204,\n",
    "'CA': 39144818,\n",
    "'CO': 5456574,\n",
    "'CT': 3590886,\n",
    "'DC': 672228,\n",
    "'DE': 945934,\n",
    "'FL': 20271272,\n",
    "'GA': 10214860,\n",
    "'HI': 1431603,\n",
    "'ID': 1654930,\n",
    "'IL': 12859995,\n",
    "'IN': 6619680,\n",
    "'IA': 3123899,\n",
    "'KS': 2911641,\n",
    "'KY': 4425092,\n",
    "'LA': 4670724,\n",
    "'ME': 1329328,\n",
    "'MD': 6006401,\n",
    "'MA': 6794422,\n",
    "'MI': 9922576,\n",
    "'MN': 5489594,\n",
    "'MS': 2992333,\n",
    "'MO': 6083672,\n",
    "'MT': 1032949,\n",
    "'NE': 1896190,\n",
    "'NV': 2890845,\n",
    "'NH': 1330608,\n",
    "'NJ': 8958013,\n",
    "'NM': 2085109,\n",
    "'NY': 19795791,\n",
    "'NC': 10042802,\n",
    "'ND': 756927,\n",
    "'OH': 11613423,\n",
    "'OK': 3911338,\n",
    "'OR': 4028977,\n",
    "'PA': 12802503,\n",
    "'RI': 1056298,\n",
    "'SC': 4896146,\n",
    "'SD': 858469,\n",
    "'TN': 6600299,\n",
    "'TX': 27469114,\n",
    "'UT': 2995919,\n",
    "'VT': 626042,\n",
    "'VA': 8382993,\n",
    "'WA': 7170351,\n",
    "'WV': 1844128,\n",
    "'WI': 5771337,\n",
    "'WY': 586107}"
   ]
  },
  {
   "cell_type": "markdown",
   "metadata": {},
   "source": [
    "Group the data by sector (`NTEE1`), and sum the total revenue for all the matching non-profits. We then sort the sectors by their total revenue, and pull out the 12 largest for comparisons, since these are likely the higher importance sectors within the non-profit economy. "
   ]
  },
  {
   "cell_type": "code",
   "execution_count": 5,
   "metadata": {},
   "outputs": [
    {
     "data": {
      "text/plain": [
       "['E', 'B', 'P', 'T', 'A', 'Q', 'F', 'L', 'U', 'G', 'X', 'S']"
      ]
     },
     "execution_count": 5,
     "metadata": {},
     "output_type": "execute_result"
    }
   ],
   "source": [
    "categories = df_2015.groupby('NTEE1').sum()['TOTREV'].sort_values(ascending=False).index.tolist()[:12]\n",
    "categories"
   ]
  },
  {
   "cell_type": "markdown",
   "metadata": {},
   "source": [
    "For each category, group the corresponding non-profits by their resident state, and sum their expenditures to get a picture of the total amount of money spent by that sector in each state. For each state, divide the summed expenses by the state population to compare a *per capita* value."
   ]
  },
  {
   "cell_type": "code",
   "execution_count": 6,
   "metadata": {},
   "outputs": [
    {
     "name": "stderr",
     "output_type": "stream",
     "text": [
      "100%|██████████| 12/12 [00:08<00:00,  1.40it/s]\n"
     ]
    }
   ],
   "source": [
    "from tqdm import tqdm\n",
    "dicts_to_plot = {}\n",
    "for c in tqdm(categories):\n",
    "    dicts_to_plot[c] = df_2015[df_2015['NTEE1'] == c].groupby('STATE').sum()['EXPS'] / pd.Series(state_pop)"
   ]
  },
  {
   "cell_type": "markdown",
   "metadata": {},
   "source": [
    "This dictionary mapping helps when computing the choropleth in the coming cells..."
   ]
  },
  {
   "cell_type": "code",
   "execution_count": 7,
   "metadata": {},
   "outputs": [],
   "source": [
    "us_state_abbrev = {\n",
    "    'Alabama': 'AL',\n",
    "    'Alaska': 'AK',\n",
    "    'Arizona': 'AZ',\n",
    "    'Arkansas': 'AR',\n",
    "    'California': 'CA',\n",
    "    'Colorado': 'CO',\n",
    "    'Connecticut': 'CT',\n",
    "    'Delaware': 'DE',\n",
    "    'District of Columbia': 'DC',\n",
    "    'Florida': 'FL',\n",
    "    'Georgia': 'GA',\n",
    "    'Hawaii': 'HI',\n",
    "    'Idaho': 'ID',\n",
    "    'Illinois': 'IL',\n",
    "    'Indiana': 'IN',\n",
    "    'Iowa': 'IA',\n",
    "    'Kansas': 'KS',\n",
    "    'Kentucky': 'KY',\n",
    "    'Louisiana': 'LA',\n",
    "    'Maine': 'ME',\n",
    "    'Maryland': 'MD',\n",
    "    'Massachusetts': 'MA',\n",
    "    'Michigan': 'MI',\n",
    "    'Minnesota': 'MN',\n",
    "    'Mississippi': 'MS',\n",
    "    'Missouri': 'MO',\n",
    "    'Montana': 'MT',\n",
    "    'Nebraska': 'NE',\n",
    "    'Nevada': 'NV',\n",
    "    'New Hampshire': 'NH',\n",
    "    'New Jersey': 'NJ',\n",
    "    'New Mexico': 'NM',\n",
    "    'New York': 'NY',\n",
    "    'North Carolina': 'NC',\n",
    "    'North Dakota': 'ND',\n",
    "    'Ohio': 'OH',\n",
    "    'Oklahoma': 'OK',\n",
    "    'Oregon': 'OR',\n",
    "    'Pennsylvania': 'PA',\n",
    "    'Puerto Rico': 'PR',\n",
    "    'Rhode Island': 'RI',\n",
    "    'South Carolina': 'SC',\n",
    "    'South Dakota': 'SD',\n",
    "    'Tennessee': 'TN',\n",
    "    'Texas': 'TX',\n",
    "    'Utah': 'UT',\n",
    "    'Vermont': 'VT',\n",
    "    'Virginia': 'VA',\n",
    "    'Washington': 'WA',\n",
    "    'West Virginia': 'WV',\n",
    "    'Wisconsin': 'WI',\n",
    "    'Wyoming': 'WY',\n",
    "}"
   ]
  },
  {
   "cell_type": "markdown",
   "metadata": {},
   "source": [
    "The following function will plot the choropleth map, using the state-by-state date provided. The code for building these maps was adapted from the example provided in the matplotlib [documentation](https://github.com/matplotlib/basemap/blob/master/examples/fillstates.py)."
   ]
  },
  {
   "cell_type": "code",
   "execution_count": 11,
   "metadata": {},
   "outputs": [],
   "source": [
    "def plot_choropleth(data, title):\n",
    "    import numpy as np\n",
    "    import matplotlib.pyplot as plt\n",
    "    from mpl_toolkits.basemap import Basemap as Basemap\n",
    "    from matplotlib.colors import rgb2hex, Normalize\n",
    "    from matplotlib.patches import Polygon\n",
    "    from matplotlib.colorbar import ColorbarBase\n",
    "\n",
    "    fig, ax = plt.subplots(figsize=(10,6))\n",
    "\n",
    "    # Lambert Conformal map of lower 48 states.\n",
    "    m = Basemap(llcrnrlon=-119,llcrnrlat=20,urcrnrlon=-64,urcrnrlat=49,\n",
    "                projection='lcc',lat_1=33,lat_2=45,lon_0=-95)\n",
    "\n",
    "    # Mercator projection, for Alaska and Hawaii\n",
    "    m_ = Basemap(llcrnrlon=-190,llcrnrlat=20,urcrnrlon=-143,urcrnrlat=46,\n",
    "                projection='merc',lat_ts=20)  # do not change these numbers\n",
    "\n",
    "    shp_info = m.readshapefile('st99_d00','states',drawbounds=True,\n",
    "                               linewidth=0.45,color='gray')\n",
    "    shp_info_ = m_.readshapefile('st99_d00','states',drawbounds=False)\n",
    "\n",
    "\n",
    "    val = data\n",
    "\n",
    "    #%% -------- choose a color for each state based on population density. -------\n",
    "    colors={}\n",
    "    statenames=[]\n",
    "    cmap = plt.cm.viridis # use 'reversed hot' colormap\n",
    "    vmin = val.min(); vmax = val.max() # set range.\n",
    "    norm = Normalize(vmin=vmin, vmax=vmax)\n",
    "    for shapedict in m.states_info:\n",
    "        statename = shapedict['NAME']\n",
    "        if statename not in ['District of Columbia','Puerto Rico']:\n",
    "            pop = val[us_state_abbrev[statename]]\n",
    "            colors[statename] = cmap(np.sqrt((pop-vmin)/(vmax-vmin)))[:3]\n",
    "        statenames.append(statename)\n",
    "\n",
    "    #%% ---------  cycle through state names, color each one.  --------------------\n",
    "    for nshape,seg in enumerate(m.states):\n",
    "        if statenames[nshape] not in ['Puerto Rico', 'District of Columbia']:\n",
    "            color = rgb2hex(colors[statenames[nshape]])\n",
    "            poly = Polygon(seg,facecolor=color,edgecolor=color)\n",
    "            ax.add_patch(poly)\n",
    "\n",
    "    AREA_1 = 0.005  # exclude small Hawaiian islands that are smaller than AREA_1\n",
    "    AREA_2 = AREA_1 * 30.0  # exclude Alaskan islands that are smaller than AREA_2\n",
    "    AK_SCALE = 0.19  # scale down Alaska to show as a map inset\n",
    "    HI_OFFSET_X = -1900000  # X coordinate offset amount to move Hawaii \"beneath\" Texas\n",
    "    HI_OFFSET_Y = 250000    # similar to above: Y offset for Hawaii\n",
    "    AK_OFFSET_X = -250000   # X offset for Alaska (These four values are obtained\n",
    "    AK_OFFSET_Y = -750000   # via manual trial and error, thus changing them is not recommended.)\n",
    "\n",
    "    for nshape, shapedict in enumerate(m_.states_info):  # plot Alaska and Hawaii as map insets\n",
    "        if shapedict['NAME'] in ['Alaska', 'Hawaii']:\n",
    "            seg = m_.states[int(shapedict['SHAPENUM'] - 1)]\n",
    "            if shapedict['NAME'] == 'Hawaii' and float(shapedict['AREA']) > AREA_1:\n",
    "                seg = [(x + HI_OFFSET_X, y + HI_OFFSET_Y) for x, y in seg]\n",
    "                color = rgb2hex(colors[statenames[nshape]])\n",
    "            elif shapedict['NAME'] == 'Alaska' and float(shapedict['AREA']) > AREA_2:\n",
    "                seg = [(x*AK_SCALE + AK_OFFSET_X, y*AK_SCALE + AK_OFFSET_Y)\\\n",
    "                       for x, y in seg]\n",
    "                color = rgb2hex(colors[statenames[nshape]])\n",
    "            poly = Polygon(seg, facecolor=color, edgecolor='gray', linewidth=.45)\n",
    "            ax.add_patch(poly)\n",
    "\n",
    "    ax.set_title(title)\n",
    "\n",
    "    #%% ---------  Plot bounding boxes for Alaska and Hawaii insets  --------------\n",
    "    light_gray = [0.8]*3  # define light gray color RGB\n",
    "    x1,y1 = m_([-190,-183,-180,-180,-175,-171,-171],[29,29,26,26,26,22,20])\n",
    "    x2,y2 = m_([-180,-180,-177],[26,23,20])  # these numbers are fine-tuned manually\n",
    "    m_.plot(x1,y1,color=light_gray,linewidth=0.8)  # do not change them drastically\n",
    "    m_.plot(x2,y2,color=light_gray,linewidth=0.8)\n",
    "\n",
    "    #%% ---------   Show color bar  ---------------------------------------\n",
    "    ax_c = fig.add_axes([0.85, 0.1, 0.03, 0.8])\n",
    "    cb = ColorbarBase(ax_c,cmap=cmap,norm=norm,orientation='vertical',\n",
    "                      label=r'[2015 USD (per capita)]')\n",
    "\n",
    "    plt.show()"
   ]
  },
  {
   "cell_type": "code",
   "execution_count": 15,
   "metadata": {},
   "outputs": [],
   "source": [
    "cats = ['E', 'B', 'P', 'T', 'A', 'Q', 'F', 'L', 'U', 'G', 'X', 'S']\n",
    "titles = [\n",
    "    'E: Health Care Expenditures (per capita)',\n",
    "    'B: Educational Expenditures (per capita)',\n",
    "    'P: Human Services Expenditures (per capita)',\n",
    "    'T: Philanthropy Expenditures (per capita)',\n",
    "    'A: Arts, Culture, & Humanities Expenditures (per capita)',\n",
    "    'Q: International Development and Foreign Expenditures (per capita)',\n",
    "    'F: Mental Health and Crisis Intervention Expenditures (per capita)',\n",
    "    'L: Housing & Shelter Expenditures (per capita)',\n",
    "    'U: Science and Technology Expenditures (per capita)',\n",
    "    'G: Diseases and Medical Expenditures (per capita)',\n",
    "    'X: Religious Group Expenditures (per capita)',\n",
    "    'S: Community Improvement Expenditures (per capita)'\n",
    "]\n",
    "\n",
    "for c, t in zip(cats, titles):\n",
    "    plot_choropleth(dicts_to_plot[c], t)\n",
    "    plt.savefig('plot_{}.png'.format(c))"
   ]
  },
  {
   "cell_type": "markdown",
   "metadata": {},
   "source": [
    "** Not all the figures are discussed here, but a few reveal some very interesting results, and raise important questions that are worth further study: **\n",
    "\n",
    "* Category E: Healthcare expenditures per capita are drastically higher in Oregon than every other state. Upon closer inspection, this is because the Kaiser Permanente family of non-profits are registered with addresses in Portland, OR, and operate entire hospital and insurance systems, explaining the extremely high dollar amounts seen in Oregon\n",
    "* Category B: Educational expenditures seem to be concentrated to a small degree in the north-east, which makes sense given the high concentration of universities and private secondary schools in this part of the country\n",
    "* Category P: Human services expenditures are fairly uniform across the country, but are lowest in Mississippi, a state that regularly ranks at the bottom in terms of poverty and health metrics, indicating that perhaps the help is not going to the areas where it is needed the most.\n",
    "* Category F: Mental health and crisis intervention expenditures are extremely high in Vermont, and are generally a great deal higher in the northern states when compared to the southern ones. The reasoning for this is not immediately apparent, and the anomaly of VT warrants further study.\n",
    "* Category X: Religious groups (such as churches) have significantly higher expenditures in Arizona and Georgia, as well as more generally throughout the center of the country. This matches expectations to some degree that there is a \"bible belt\" in the central and southern United States. These results are skewed however, by the inclusion of religious-affiliated health care systems (such as Mercy Maricopa Integrated Care in Phoenix, AZ). These groups are included as religious organizations (X) rather than health care ones (E), which complicates analyses."
   ]
  },
  {
   "cell_type": "markdown",
   "metadata": {},
   "source": [
    "![plot_E](plot_E.png)\n",
    "![plot_B](plot_B.png)\n",
    "![plot_P](plot_P.png)\n",
    "![plot_T](plot_T.png)\n",
    "![plot_A](plot_A.png)\n",
    "![plot_Q](plot_Q.png)\n",
    "![plot_F](plot_F.png)\n",
    "![plot_L](plot_L.png)\n",
    "![plot_U](plot_U.png)\n",
    "![plot_G](plot_G.png)\n",
    "![plot_X](plot_X.png)\n",
    "![plot_S](plot_S.png)"
   ]
  },
  {
   "cell_type": "code",
   "execution_count": null,
   "metadata": {},
   "outputs": [],
   "source": []
  }
 ],
 "metadata": {
  "kernelspec": {
   "display_name": "Python 3",
   "language": "python",
   "name": "python3"
  },
  "language_info": {
   "codemirror_mode": {
    "name": "ipython",
    "version": 3
   },
   "file_extension": ".py",
   "mimetype": "text/x-python",
   "name": "python",
   "nbconvert_exporter": "python",
   "pygments_lexer": "ipython3",
   "version": "3.6.5"
  },
  "toc": {
   "nav_menu": {},
   "number_sections": false,
   "sideBar": true,
   "skip_h1_title": false,
   "title_cell": "Table of Contents",
   "title_sidebar": "Contents",
   "toc_cell": false,
   "toc_position": {},
   "toc_section_display": true,
   "toc_window_display": false
  }
 },
 "nbformat": 4,
 "nbformat_minor": 2
}
